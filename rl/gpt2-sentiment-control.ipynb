{
 "cells": [
  {
   "cell_type": "code",
   "execution_count": 8,
   "outputs": [],
   "source": [
    "import random\n",
    "import torch\n",
    "import wandb\n",
    "import time\n",
    "import os\n",
    "from tqdm import tqdm\n",
    "import numpy as np\n",
    "import pandas as pd\n",
    "from random import choices\n",
    "import matplotlib.pyplot as plt\n",
    "\n",
    "tqdm.pandas()\n",
    "\n",
    "from datasets import load_dataset\n",
    "\n",
    "from transformers import AutoTokenizer, pipeline\n",
    "\n",
    "from trl import PPOTrainer, PPOConfig, AutoModelForCausalLMWithValueHead, create_reference_model"
   ],
   "metadata": {
    "collapsed": false,
    "ExecuteTime": {
     "end_time": "2023-10-17T12:59:08.005104687Z",
     "start_time": "2023-10-17T12:59:07.851438569Z"
    }
   }
  },
  {
   "cell_type": "markdown",
   "metadata": {},
   "source": [
    "### Configuration"
   ]
  },
  {
   "cell_type": "code",
   "execution_count": 9,
   "metadata": {
    "ExecuteTime": {
     "end_time": "2023-10-17T12:59:08.039476341Z",
     "start_time": "2023-10-17T12:59:07.859303224Z"
    }
   },
   "outputs": [],
   "source": [
    "sentiment_pipe_kwargs = {\"top_k\": None, \"function_to_apply\": \"none\"}\n",
    "\n",
    "config = PPOConfig(\n",
    "    model_name=\"lvwerra/gpt2-imdb\", steps=51200, learning_rate=1.41e-5, remove_unused_columns=False, log_with=\"wandb\"\n",
    ")\n",
    "\n",
    "txt_in_len = 5\n",
    "txt_out_len = 20\n",
    "seed = 1"
   ]
  },
  {
   "cell_type": "code",
   "execution_count": 10,
   "metadata": {
    "ExecuteTime": {
     "end_time": "2023-10-17T12:59:08.039745883Z",
     "start_time": "2023-10-17T12:59:07.871451590Z"
    }
   },
   "outputs": [],
   "source": [
    "np.random.seed(seed)"
   ]
  },
  {
   "cell_type": "markdown",
   "metadata": {},
   "source": [
    "You can see that we load a GPT2 model called `gpt2_imdb`. This model was additionally fine-tuned on the IMDB dataset for 1 epoch with the huggingface [script](https://github.com/huggingface/transformers/blob/master/examples/run_language_modeling.py) (no special settings). The other parameters are mostly taken from the original paper [\"Fine-Tuning Language Models from Human Preferences\"](\n",
    "https://arxiv.org/pdf/1909.08593.pdf). This model as well as the BERT model is available in the Huggingface model zoo [here](https://huggingface.co/models). The following code should automatically download the models."
   ]
  },
  {
   "cell_type": "markdown",
   "metadata": {},
   "source": [
    "## Load data and models"
   ]
  },
  {
   "cell_type": "markdown",
   "metadata": {},
   "source": [
    "### Load pre-trained GPT2 language models"
   ]
  },
  {
   "cell_type": "markdown",
   "metadata": {},
   "source": [
    "We load the GPT2 model with a value head and the tokenizer. We load the model twice; the first model is optimized while the second model serves as a reference to calculate the KL-divergence from the starting point. This serves as an additional reward signal in the PPO training to make sure the optimized model does not deviate too much from the original language model."
   ]
  },
  {
   "cell_type": "code",
   "execution_count": 11,
   "metadata": {
    "ExecuteTime": {
     "end_time": "2023-10-17T12:59:10.292099309Z",
     "start_time": "2023-10-17T12:59:07.875996167Z"
    }
   },
   "outputs": [],
   "source": [
    "gpt2_model = AutoModelForCausalLMWithValueHead.from_pretrained(config.model_name)\n",
    "gpt2_model_ref = create_reference_model(gpt2_model)\n",
    "gpt2_tokenizer = AutoTokenizer.from_pretrained(config.model_name)\n",
    "\n",
    "gpt2_tokenizer.pad_token = gpt2_tokenizer.eos_token"
   ]
  },
  {
   "cell_type": "markdown",
   "metadata": {},
   "source": [
    "### Load IMDB dataset\n",
    "The IMDB dataset contains 50k movie review annotated with \"positive\"/\"negative\" feedback indicating the sentiment.  We load the IMDB dataset into a DataFrame and filter for comments that are at least 500 characters long and take the first 1000 characters of each comment. The first filter we apply to avoid comments that are less than `txt_in_len` token long and the second to avoid tokenizing way more text than we actually need."
   ]
  },
  {
   "cell_type": "code",
   "execution_count": 12,
   "metadata": {
    "ExecuteTime": {
     "end_time": "2023-10-17T12:59:18.161457273Z",
     "start_time": "2023-10-17T12:59:10.333931430Z"
    }
   },
   "outputs": [
    {
     "data": {
      "text/plain": "Dataset({\n    features: ['review', 'sentiment'],\n    num_rows: 22578\n})"
     },
     "execution_count": 12,
     "metadata": {},
     "output_type": "execute_result"
    }
   ],
   "source": [
    "# create the dataset\n",
    "#\n",
    "dataset = load_dataset(\"imdb\", split=\"train\")\n",
    "dataset = dataset.rename_columns({\"text\": \"review\", \"label\": \"sentiment\"})\n",
    "# make sure the comments are are at least 500 and trim to 1000\n",
    "dataset = dataset.filter(lambda x: len(x[\"review\"]) > 500, batched=False)\n",
    "dataset = dataset.map(lambda x: {\"review\": x[\"review\"][:1000]}, batched=False)\n",
    "\n",
    "dataset"
   ]
  },
  {
   "cell_type": "markdown",
   "metadata": {},
   "source": [
    "### Tokenize IMDB reviews"
   ]
  },
  {
   "cell_type": "markdown",
   "metadata": {},
   "source": [
    "We tokenize all IMDB in advance to avoid tokenizing twice. In the first step we encode the queries and slice the first `txt_in_len` tokens. In a second step we decode these tokens back to text for later display."
   ]
  },
  {
   "cell_type": "code",
   "execution_count": 13,
   "metadata": {
    "ExecuteTime": {
     "end_time": "2023-10-17T12:59:18.206946074Z",
     "start_time": "2023-10-17T12:59:18.170661214Z"
    }
   },
   "outputs": [],
   "source": [
    "dataset = dataset.map(\n",
    "    lambda x: {\"input_ids\": gpt2_tokenizer.encode(\" \" + x[\"review\"], return_tensors=\"pt\")[0, :txt_in_len]},\n",
    "    batched=False,\n",
    ")\n",
    "dataset = dataset.map(lambda x: {\"query\": gpt2_tokenizer.decode(x[\"input_ids\"])}, batched=False)\n",
    "dataset = dataset[:1000]\n",
    "\n",
    "from datasets import Dataset\n",
    "\n",
    "dataset = Dataset.from_dict(dataset)\n",
    "dataset.set_format(\"pytorch\")"
   ]
  },
  {
   "cell_type": "code",
   "execution_count": 14,
   "metadata": {
    "ExecuteTime": {
     "end_time": "2023-10-17T12:59:18.245212038Z",
     "start_time": "2023-10-17T12:59:18.198992337Z"
    }
   },
   "outputs": [
    {
     "data": {
      "text/plain": "tensor([ 770, 2646,  373, 2192, 7867])"
     },
     "execution_count": 14,
     "metadata": {},
     "output_type": "execute_result"
    }
   ],
   "source": [
    "dataset[3][\"input_ids\"]"
   ]
  },
  {
   "cell_type": "code",
   "execution_count": 15,
   "metadata": {
    "ExecuteTime": {
     "end_time": "2023-10-17T12:59:18.246092810Z",
     "start_time": "2023-10-17T12:59:18.244911626Z"
    }
   },
   "outputs": [],
   "source": [
    "def collator(data):\n",
    "    return dict((key, [d[key] for d in data]) for key in data[0])"
   ]
  },
  {
   "cell_type": "code",
   "execution_count": 16,
   "metadata": {
    "ExecuteTime": {
     "end_time": "2023-10-17T12:59:19.584575128Z",
     "start_time": "2023-10-17T12:59:18.245138192Z"
    }
   },
   "outputs": [
    {
     "name": "stderr",
     "output_type": "stream",
     "text": [
      "\u001B[34m\u001B[1mwandb\u001B[0m: Currently logged in as: \u001B[33msadidul-012\u001B[0m. Use \u001B[1m`wandb login --relogin`\u001B[0m to force relogin\n"
     ]
    },
    {
     "data": {
      "text/plain": "<IPython.core.display.HTML object>",
      "text/html": "Tracking run with wandb version 0.15.12"
     },
     "metadata": {},
     "output_type": "display_data"
    },
    {
     "data": {
      "text/plain": "<IPython.core.display.HTML object>",
      "text/html": "Run data is saved locally in <code>/mnt/Workspace/PycharmProjects/transformers-rl/wandb/run-20231017_185918-0i1tldpl</code>"
     },
     "metadata": {},
     "output_type": "display_data"
    },
    {
     "data": {
      "text/plain": "<IPython.core.display.HTML object>",
      "text/html": "Syncing run <strong><a href='https://wandb.ai/sadidul-012/trl/runs/0i1tldpl' target=\"_blank\">pretty-elevator-9</a></strong> to <a href='https://wandb.ai/sadidul-012/trl' target=\"_blank\">Weights & Biases</a> (<a href='https://wandb.me/run' target=\"_blank\">docs</a>)<br/>"
     },
     "metadata": {},
     "output_type": "display_data"
    },
    {
     "data": {
      "text/plain": "<IPython.core.display.HTML object>",
      "text/html": " View project at <a href='https://wandb.ai/sadidul-012/trl' target=\"_blank\">https://wandb.ai/sadidul-012/trl</a>"
     },
     "metadata": {},
     "output_type": "display_data"
    },
    {
     "data": {
      "text/plain": "<IPython.core.display.HTML object>",
      "text/html": " View run at <a href='https://wandb.ai/sadidul-012/trl/runs/0i1tldpl' target=\"_blank\">https://wandb.ai/sadidul-012/trl/runs/0i1tldpl</a>"
     },
     "metadata": {},
     "output_type": "display_data"
    }
   ],
   "source": [
    "ppo_trainer = PPOTrainer(config, gpt2_model, gpt2_model_ref, gpt2_tokenizer, dataset, data_collator=collator)"
   ]
  },
  {
   "cell_type": "markdown",
   "metadata": {},
   "source": [
    "### Load BERT classifier\n",
    "We load a BERT classifier fine-tuned on the IMDB dataset."
   ]
  },
  {
   "cell_type": "code",
   "execution_count": 17,
   "metadata": {
    "ExecuteTime": {
     "end_time": "2023-10-17T12:59:20.306342320Z",
     "start_time": "2023-10-17T12:59:19.584856599Z"
    }
   },
   "outputs": [],
   "source": [
    "if ppo_trainer.accelerator.num_processes == 1:\n",
    "    device = 0 if torch.cuda.is_available() else \"cpu\"  # to avoid a `pipeline` bug\n",
    "else:\n",
    "    device = ppo_trainer.accelerator.device\n",
    "sentiment_pipe = pipeline(\"sentiment-analysis\", \"lvwerra/distilbert-imdb\", device=device)"
   ]
  },
  {
   "cell_type": "markdown",
   "metadata": {},
   "source": [
    "The model outputs are the logits for the negative and positive class. We will use the logits for positive class as a reward signal for the language model."
   ]
  },
  {
   "cell_type": "code",
   "execution_count": 18,
   "metadata": {
    "ExecuteTime": {
     "end_time": "2023-10-17T12:59:20.536974276Z",
     "start_time": "2023-10-17T12:59:20.307447240Z"
    }
   },
   "outputs": [
    {
     "data": {
      "text/plain": "[{'label': 'NEGATIVE', 'score': 2.3350486755371094},\n {'label': 'POSITIVE', 'score': -2.726576566696167}]"
     },
     "execution_count": 18,
     "metadata": {},
     "output_type": "execute_result"
    }
   ],
   "source": [
    "text = \"this movie was really bad!!\"\n",
    "output = sentiment_pipe(text, **sentiment_pipe_kwargs)\n",
    "output"
   ]
  },
  {
   "cell_type": "code",
   "execution_count": 19,
   "metadata": {
    "ExecuteTime": {
     "end_time": "2023-10-17T12:59:20.585001761Z",
     "start_time": "2023-10-17T12:59:20.536767672Z"
    }
   },
   "outputs": [
    {
     "data": {
      "text/plain": "[{'label': 'POSITIVE', 'score': 2.5570404529571533},\n {'label': 'NEGATIVE', 'score': -2.2947897911071777}]"
     },
     "execution_count": 19,
     "metadata": {},
     "output_type": "execute_result"
    }
   ],
   "source": [
    "text = \"this movie was really good!!\"\n",
    "output = sentiment_pipe(text, **sentiment_pipe_kwargs)\n",
    "output"
   ]
  },
  {
   "cell_type": "code",
   "execution_count": 20,
   "metadata": {
    "ExecuteTime": {
     "end_time": "2023-10-17T12:59:20.585416896Z",
     "start_time": "2023-10-17T12:59:20.584830760Z"
    }
   },
   "outputs": [
    {
     "data": {
      "text/plain": "[{'label': 'POSITIVE', 'score': 0.8562763929367065},\n {'label': 'NEGATIVE', 'score': -0.708605170249939}]"
     },
     "execution_count": 20,
     "metadata": {},
     "output_type": "execute_result"
    }
   ],
   "source": [
    "text = \"this movie was a documentary\"\n",
    "output = sentiment_pipe(text, **sentiment_pipe_kwargs)\n",
    "output"
   ]
  },
  {
   "cell_type": "markdown",
   "metadata": {},
   "source": [
    "The resulting reward signal:"
   ]
  },
  {
   "cell_type": "code",
   "execution_count": 21,
   "metadata": {
    "ExecuteTime": {
     "end_time": "2023-10-17T12:59:20.639904807Z",
     "start_time": "2023-10-17T12:59:20.585115363Z"
    }
   },
   "outputs": [],
   "source": [
    "def extract_pipe_output(outputs):\n",
    "    positive_logits = []\n",
    "    for out in outputs:\n",
    "        for element in out:\n",
    "            if element[\"label\"] == \"POSITIVE\":\n",
    "                positive_logits.append(torch.tensor(element[\"score\"]))\n",
    "    return positive_logits"
   ]
  },
  {
   "cell_type": "code",
   "execution_count": 22,
   "metadata": {
    "ExecuteTime": {
     "end_time": "2023-10-17T12:59:20.640378507Z",
     "start_time": "2023-10-17T12:59:20.632861424Z"
    }
   },
   "outputs": [
    {
     "data": {
      "text/plain": "-0.708605170249939"
     },
     "execution_count": 22,
     "metadata": {},
     "output_type": "execute_result"
    }
   ],
   "source": [
    "output[1][\"score\"]"
   ]
  },
  {
   "cell_type": "markdown",
   "metadata": {},
   "source": [
    "### Control token dict\n",
    "We will append the control token at the beginning of each query to signal the model what the target sentiment is. Each control sequence consists of three tokens:"
   ]
  },
  {
   "cell_type": "code",
   "execution_count": 23,
   "metadata": {
    "ExecuteTime": {
     "end_time": "2023-10-17T12:59:20.640560686Z",
     "start_time": "2023-10-17T12:59:20.633190703Z"
    }
   },
   "outputs": [],
   "source": [
    "ctrl_str = [\"[negative]\", \"[neutral]\", \"[positive]\"]\n",
    "device = torch.device(\"cuda\" if torch.cuda.is_available() else \"cpu\")  # this should be handled by accelerate\n",
    "ctrl_tokens = dict((s, gpt2_tokenizer.encode(s, return_tensors=\"pt\").squeeze().to(device)) for s in ctrl_str)"
   ]
  },
  {
   "cell_type": "code",
   "execution_count": 24,
   "metadata": {
    "ExecuteTime": {
     "end_time": "2023-10-17T12:59:20.695517814Z",
     "start_time": "2023-10-17T12:59:20.637110602Z"
    }
   },
   "outputs": [
    {
     "data": {
      "text/plain": "{'[negative]': tensor([   58, 31591,    60], device='cuda:0'),\n '[neutral]': tensor([   58, 29797,    60], device='cuda:0'),\n '[positive]': tensor([   58, 24561,    60], device='cuda:0')}"
     },
     "execution_count": 24,
     "metadata": {},
     "output_type": "execute_result"
    }
   ],
   "source": [
    "ctrl_tokens"
   ]
  },
  {
   "cell_type": "markdown",
   "metadata": {},
   "source": [
    "### Reward function"
   ]
  },
  {
   "cell_type": "code",
   "execution_count": 25,
   "metadata": {
    "ExecuteTime": {
     "end_time": "2023-10-17T12:59:20.738653540Z",
     "start_time": "2023-10-17T12:59:20.680950110Z"
    }
   },
   "outputs": [],
   "source": [
    "def pos_logit_to_reward(logit, task):\n",
    "    \"\"\"\n",
    "    Take the positive sentiment logit and scale it for the task.\n",
    "        task [negative]: reward = -logit\n",
    "        task [neutral]: reward = -2*abs(logit)+4\n",
    "        task [positive]: reward = logit\n",
    "    \"\"\"\n",
    "    for i in range(len(logit)):\n",
    "        if task[i] == \"[negative]\":\n",
    "            logit[i] = -logit[i]\n",
    "        elif task[i] == \"[neutral]\":\n",
    "            logit[i] = -2 * torch.abs(logit[i]) + 4\n",
    "        elif task[i] == \"[positive]\":\n",
    "            pass\n",
    "        else:\n",
    "            raise ValueError(\"task has to be in [0, 1, 2]!\")\n",
    "    return logit"
   ]
  },
  {
   "cell_type": "markdown",
   "metadata": {},
   "source": [
    "The following examples show the rewards for the cases where the classifier logit is 4, -4 and 0 for the three targets `['negative]`, `['neutral]` and `['positive']`. The scaling is not perfect as it differs between neutral and the other two classes. This is something to further investigate in the future. Ideally, one would use the logit output for each class individually, but since there is no dedicated class for neutral this is a workaround."
   ]
  },
  {
   "cell_type": "code",
   "execution_count": 26,
   "metadata": {
    "ExecuteTime": {
     "end_time": "2023-10-17T12:59:20.744680118Z",
     "start_time": "2023-10-17T12:59:20.724909166Z"
    }
   },
   "outputs": [
    {
     "name": "stdout",
     "output_type": "stream",
     "text": [
      "['[negative]', '[neutral]', '[positive]']\n"
     ]
    }
   ],
   "source": [
    "print(ctrl_str)"
   ]
  },
  {
   "cell_type": "code",
   "execution_count": 27,
   "metadata": {
    "ExecuteTime": {
     "end_time": "2023-10-17T12:59:20.796952301Z",
     "start_time": "2023-10-17T12:59:20.725212472Z"
    }
   },
   "outputs": [
    {
     "data": {
      "text/plain": "tensor([-4., -4.,  4.])"
     },
     "execution_count": 27,
     "metadata": {},
     "output_type": "execute_result"
    }
   ],
   "source": [
    "pos_logit_to_reward(torch.Tensor([4, 4, 4]), ctrl_str)"
   ]
  },
  {
   "cell_type": "code",
   "execution_count": 28,
   "metadata": {
    "ExecuteTime": {
     "end_time": "2023-10-17T12:59:20.801092534Z",
     "start_time": "2023-10-17T12:59:20.768979985Z"
    }
   },
   "outputs": [
    {
     "data": {
      "text/plain": "tensor([ 4., -4., -4.])"
     },
     "execution_count": 28,
     "metadata": {},
     "output_type": "execute_result"
    }
   ],
   "source": [
    "pos_logit_to_reward(torch.Tensor([-4, -4, -4]), ctrl_str)"
   ]
  },
  {
   "cell_type": "code",
   "execution_count": 29,
   "metadata": {
    "ExecuteTime": {
     "end_time": "2023-10-17T12:59:20.813085607Z",
     "start_time": "2023-10-17T12:59:20.769350216Z"
    }
   },
   "outputs": [
    {
     "data": {
      "text/plain": "tensor([-0., 4., 0.])"
     },
     "execution_count": 29,
     "metadata": {},
     "output_type": "execute_result"
    }
   ],
   "source": [
    "pos_logit_to_reward(torch.Tensor([0, 0, 0]), ctrl_str)"
   ]
  },
  {
   "cell_type": "markdown",
   "metadata": {},
   "source": [
    "### Generation settings"
   ]
  },
  {
   "cell_type": "code",
   "execution_count": 30,
   "metadata": {
    "ExecuteTime": {
     "end_time": "2023-10-17T12:59:20.813424891Z",
     "start_time": "2023-10-17T12:59:20.812924845Z"
    }
   },
   "outputs": [],
   "source": [
    "generation_kwargs = {\n",
    "    \"min_length\": -1,\n",
    "    \"top_k\": 0.0,\n",
    "    \"top_p\": 1.0,\n",
    "    \"do_sample\": True,\n",
    "    \"pad_token_id\": gpt2_tokenizer.eos_token_id,\n",
    "    \"max_new_tokens\": txt_out_len,\n",
    "    \"eos_token_id\": -1,\n",
    "}"
   ]
  },
  {
   "cell_type": "markdown",
   "metadata": {},
   "source": [
    "## Optimize model"
   ]
  },
  {
   "cell_type": "markdown",
   "metadata": {},
   "source": [
    "**Steps**\n",
    "\n",
    "The training loop consists of the following steps:\n",
    "1. Get a batch of queries and create random controls\n",
    "2. Get the query responses from the policy\n",
    "3. Join query and responses and tokenize for BERT analysis\n",
    "4. Get sentiments for query/responses from BERT\n",
    "5. Optimize policy with PPO using the (query, response, reward) triplet\n",
    "6. Log all the training statistics\n",
    "\n",
    "**Training time**\n",
    "\n",
    "This step takes **~2h** on a P6000 GPU with the above specified settings."
   ]
  },
  {
   "cell_type": "code",
   "execution_count": 32,
   "metadata": {
    "ExecuteTime": {
     "end_time": "2023-10-17T13:08:20.059829268Z",
     "start_time": "2023-10-17T13:00:05.117722270Z"
    }
   },
   "outputs": [
    {
     "name": "stderr",
     "output_type": "stream",
     "text": [
      "  0%|          | 0/3 [00:00<?, ?it/s]You're using a GPT2TokenizerFast tokenizer. Please note that with a fast tokenizer, using the `__call__` method is faster than using a method to encode the text followed by a call to the `pad` method to get a padded encoding.\n",
      "/mnt/Workspace/VirtualEnvironments/BanglaVPA/lib/python3.10/site-packages/trl/trainer/ppo_trainer.py:1174: UserWarning: The average ratio of batch (19.00) exceeds threshold 10.00. Skipping batch.\n",
      "  warnings.warn(\n",
      "/mnt/Workspace/VirtualEnvironments/BanglaVPA/lib/python3.10/site-packages/trl/trainer/ppo_trainer.py:1174: UserWarning: The average ratio of batch (14.13) exceeds threshold 10.00. Skipping batch.\n",
      "  warnings.warn(\n",
      "/mnt/Workspace/VirtualEnvironments/BanglaVPA/lib/python3.10/site-packages/trl/trainer/ppo_trainer.py:1174: UserWarning: The average ratio of batch (19.13) exceeds threshold 10.00. Skipping batch.\n",
      "  warnings.warn(\n",
      "/mnt/Workspace/VirtualEnvironments/BanglaVPA/lib/python3.10/site-packages/trl/trainer/ppo_trainer.py:1174: UserWarning: The average ratio of batch (14.77) exceeds threshold 10.00. Skipping batch.\n",
      "  warnings.warn(\n",
      "/mnt/Workspace/VirtualEnvironments/BanglaVPA/lib/python3.10/site-packages/trl/trainer/ppo_trainer.py:1174: UserWarning: The average ratio of batch (18.80) exceeds threshold 10.00. Skipping batch.\n",
      "  warnings.warn(\n",
      "/mnt/Workspace/VirtualEnvironments/BanglaVPA/lib/python3.10/site-packages/trl/trainer/ppo_trainer.py:1174: UserWarning: The average ratio of batch (12.92) exceeds threshold 10.00. Skipping batch.\n",
      "  warnings.warn(\n",
      "/mnt/Workspace/VirtualEnvironments/BanglaVPA/lib/python3.10/site-packages/trl/trainer/ppo_trainer.py:1174: UserWarning: The average ratio of batch (13.08) exceeds threshold 10.00. Skipping batch.\n",
      "  warnings.warn(\n",
      " 33%|███▎      | 1/3 [01:19<02:39, 79.58s/it]/mnt/Workspace/VirtualEnvironments/BanglaVPA/lib/python3.10/site-packages/trl/trainer/ppo_trainer.py:1174: UserWarning: The average ratio of batch (19.56) exceeds threshold 10.00. Skipping batch.\n",
      "  warnings.warn(\n",
      "/mnt/Workspace/VirtualEnvironments/BanglaVPA/lib/python3.10/site-packages/trl/trainer/ppo_trainer.py:1174: UserWarning: The average ratio of batch (15.34) exceeds threshold 10.00. Skipping batch.\n",
      "  warnings.warn(\n",
      "/mnt/Workspace/VirtualEnvironments/BanglaVPA/lib/python3.10/site-packages/trl/trainer/ppo_trainer.py:1174: UserWarning: The average ratio of batch (191.04) exceeds threshold 10.00. Skipping batch.\n",
      "  warnings.warn(\n",
      "/mnt/Workspace/VirtualEnvironments/BanglaVPA/lib/python3.10/site-packages/trl/trainer/ppo_trainer.py:1174: UserWarning: The average ratio of batch (33.22) exceeds threshold 10.00. Skipping batch.\n",
      "  warnings.warn(\n",
      "/mnt/Workspace/VirtualEnvironments/BanglaVPA/lib/python3.10/site-packages/trl/trainer/ppo_trainer.py:1174: UserWarning: The average ratio of batch (33.71) exceeds threshold 10.00. Skipping batch.\n",
      "  warnings.warn(\n",
      "/mnt/Workspace/VirtualEnvironments/BanglaVPA/lib/python3.10/site-packages/trl/trainer/ppo_trainer.py:1174: UserWarning: The average ratio of batch (35.45) exceeds threshold 10.00. Skipping batch.\n",
      "  warnings.warn(\n",
      "/mnt/Workspace/VirtualEnvironments/BanglaVPA/lib/python3.10/site-packages/trl/trainer/ppo_trainer.py:1174: UserWarning: The average ratio of batch (19.41) exceeds threshold 10.00. Skipping batch.\n",
      "  warnings.warn(\n",
      "/mnt/Workspace/VirtualEnvironments/BanglaVPA/lib/python3.10/site-packages/trl/trainer/ppo_trainer.py:1174: UserWarning: The average ratio of batch (33.57) exceeds threshold 10.00. Skipping batch.\n",
      "  warnings.warn(\n",
      "/mnt/Workspace/VirtualEnvironments/BanglaVPA/lib/python3.10/site-packages/trl/trainer/ppo_trainer.py:1174: UserWarning: The average ratio of batch (36.51) exceeds threshold 10.00. Skipping batch.\n",
      "  warnings.warn(\n",
      "/mnt/Workspace/VirtualEnvironments/BanglaVPA/lib/python3.10/site-packages/trl/trainer/ppo_trainer.py:1174: UserWarning: The average ratio of batch (30.95) exceeds threshold 10.00. Skipping batch.\n",
      "  warnings.warn(\n",
      "/mnt/Workspace/VirtualEnvironments/BanglaVPA/lib/python3.10/site-packages/trl/trainer/ppo_trainer.py:1174: UserWarning: The average ratio of batch (218.21) exceeds threshold 10.00. Skipping batch.\n",
      "  warnings.warn(\n",
      "/mnt/Workspace/VirtualEnvironments/BanglaVPA/lib/python3.10/site-packages/trl/trainer/ppo_trainer.py:1174: UserWarning: The average ratio of batch (14.60) exceeds threshold 10.00. Skipping batch.\n",
      "  warnings.warn(\n",
      "/mnt/Workspace/VirtualEnvironments/BanglaVPA/lib/python3.10/site-packages/trl/trainer/ppo_trainer.py:1174: UserWarning: The average ratio of batch (36.37) exceeds threshold 10.00. Skipping batch.\n",
      "  warnings.warn(\n",
      "/mnt/Workspace/VirtualEnvironments/BanglaVPA/lib/python3.10/site-packages/trl/trainer/ppo_trainer.py:1174: UserWarning: The average ratio of batch (222.20) exceeds threshold 10.00. Skipping batch.\n",
      "  warnings.warn(\n",
      "/mnt/Workspace/VirtualEnvironments/BanglaVPA/lib/python3.10/site-packages/trl/trainer/ppo_trainer.py:1174: UserWarning: The average ratio of batch (32.47) exceeds threshold 10.00. Skipping batch.\n",
      "  warnings.warn(\n",
      "/mnt/Workspace/VirtualEnvironments/BanglaVPA/lib/python3.10/site-packages/trl/trainer/ppo_trainer.py:1174: UserWarning: The average ratio of batch (28.67) exceeds threshold 10.00. Skipping batch.\n",
      "  warnings.warn(\n",
      "/mnt/Workspace/VirtualEnvironments/BanglaVPA/lib/python3.10/site-packages/trl/trainer/ppo_trainer.py:1174: UserWarning: The average ratio of batch (10.59) exceeds threshold 10.00. Skipping batch.\n",
      "  warnings.warn(\n",
      "/mnt/Workspace/VirtualEnvironments/BanglaVPA/lib/python3.10/site-packages/trl/trainer/ppo_trainer.py:1174: UserWarning: The average ratio of batch (38.35) exceeds threshold 10.00. Skipping batch.\n",
      "  warnings.warn(\n",
      "/mnt/Workspace/VirtualEnvironments/BanglaVPA/lib/python3.10/site-packages/trl/trainer/ppo_trainer.py:1174: UserWarning: The average ratio of batch (14.64) exceeds threshold 10.00. Skipping batch.\n",
      "  warnings.warn(\n",
      " 67%|██████▋   | 2/3 [02:42<01:21, 81.66s/it]/mnt/Workspace/VirtualEnvironments/BanglaVPA/lib/python3.10/site-packages/trl/trainer/ppo_trainer.py:1174: UserWarning: The average ratio of batch (11.90) exceeds threshold 10.00. Skipping batch.\n",
      "  warnings.warn(\n",
      "/mnt/Workspace/VirtualEnvironments/BanglaVPA/lib/python3.10/site-packages/trl/trainer/ppo_trainer.py:1174: UserWarning: The average ratio of batch (27.05) exceeds threshold 10.00. Skipping batch.\n",
      "  warnings.warn(\n",
      "/mnt/Workspace/VirtualEnvironments/BanglaVPA/lib/python3.10/site-packages/trl/trainer/ppo_trainer.py:1174: UserWarning: The average ratio of batch (12.97) exceeds threshold 10.00. Skipping batch.\n",
      "  warnings.warn(\n",
      "/mnt/Workspace/VirtualEnvironments/BanglaVPA/lib/python3.10/site-packages/trl/trainer/ppo_trainer.py:1174: UserWarning: The average ratio of batch (10.24) exceeds threshold 10.00. Skipping batch.\n",
      "  warnings.warn(\n",
      "/mnt/Workspace/VirtualEnvironments/BanglaVPA/lib/python3.10/site-packages/trl/trainer/ppo_trainer.py:1174: UserWarning: The average ratio of batch (1012.25) exceeds threshold 10.00. Skipping batch.\n",
      "  warnings.warn(\n",
      "/mnt/Workspace/VirtualEnvironments/BanglaVPA/lib/python3.10/site-packages/trl/trainer/ppo_trainer.py:1174: UserWarning: The average ratio of batch (128.79) exceeds threshold 10.00. Skipping batch.\n",
      "  warnings.warn(\n",
      "/mnt/Workspace/VirtualEnvironments/BanglaVPA/lib/python3.10/site-packages/trl/trainer/ppo_trainer.py:1174: UserWarning: The average ratio of batch (18.37) exceeds threshold 10.00. Skipping batch.\n",
      "  warnings.warn(\n",
      "/mnt/Workspace/VirtualEnvironments/BanglaVPA/lib/python3.10/site-packages/trl/trainer/ppo_trainer.py:1174: UserWarning: The average ratio of batch (13.66) exceeds threshold 10.00. Skipping batch.\n",
      "  warnings.warn(\n",
      "/mnt/Workspace/VirtualEnvironments/BanglaVPA/lib/python3.10/site-packages/trl/trainer/ppo_trainer.py:1174: UserWarning: The average ratio of batch (75.31) exceeds threshold 10.00. Skipping batch.\n",
      "  warnings.warn(\n",
      "/mnt/Workspace/VirtualEnvironments/BanglaVPA/lib/python3.10/site-packages/trl/trainer/ppo_trainer.py:1174: UserWarning: The average ratio of batch (14.44) exceeds threshold 10.00. Skipping batch.\n",
      "  warnings.warn(\n",
      "/mnt/Workspace/VirtualEnvironments/BanglaVPA/lib/python3.10/site-packages/trl/trainer/ppo_trainer.py:1174: UserWarning: The average ratio of batch (13.95) exceeds threshold 10.00. Skipping batch.\n",
      "  warnings.warn(\n",
      "/mnt/Workspace/VirtualEnvironments/BanglaVPA/lib/python3.10/site-packages/trl/trainer/ppo_trainer.py:1174: UserWarning: The average ratio of batch (18.72) exceeds threshold 10.00. Skipping batch.\n",
      "  warnings.warn(\n",
      "/mnt/Workspace/VirtualEnvironments/BanglaVPA/lib/python3.10/site-packages/trl/trainer/ppo_trainer.py:1174: UserWarning: The average ratio of batch (11.56) exceeds threshold 10.00. Skipping batch.\n",
      "  warnings.warn(\n",
      "/mnt/Workspace/VirtualEnvironments/BanglaVPA/lib/python3.10/site-packages/trl/trainer/ppo_trainer.py:1174: UserWarning: The average ratio of batch (12.39) exceeds threshold 10.00. Skipping batch.\n",
      "  warnings.warn(\n",
      "/mnt/Workspace/VirtualEnvironments/BanglaVPA/lib/python3.10/site-packages/trl/trainer/ppo_trainer.py:1174: UserWarning: The average ratio of batch (129.97) exceeds threshold 10.00. Skipping batch.\n",
      "  warnings.warn(\n",
      "/mnt/Workspace/VirtualEnvironments/BanglaVPA/lib/python3.10/site-packages/trl/trainer/ppo_trainer.py:1174: UserWarning: The average ratio of batch (12.47) exceeds threshold 10.00. Skipping batch.\n",
      "  warnings.warn(\n",
      "/mnt/Workspace/VirtualEnvironments/BanglaVPA/lib/python3.10/site-packages/trl/trainer/ppo_trainer.py:1174: UserWarning: The average ratio of batch (21.42) exceeds threshold 10.00. Skipping batch.\n",
      "  warnings.warn(\n",
      "/mnt/Workspace/VirtualEnvironments/BanglaVPA/lib/python3.10/site-packages/trl/trainer/ppo_trainer.py:1174: UserWarning: The average ratio of batch (27.67) exceeds threshold 10.00. Skipping batch.\n",
      "  warnings.warn(\n",
      "/mnt/Workspace/VirtualEnvironments/BanglaVPA/lib/python3.10/site-packages/trl/trainer/ppo_trainer.py:1174: UserWarning: The average ratio of batch (1126.88) exceeds threshold 10.00. Skipping batch.\n",
      "  warnings.warn(\n",
      "/mnt/Workspace/VirtualEnvironments/BanglaVPA/lib/python3.10/site-packages/trl/trainer/ppo_trainer.py:1174: UserWarning: The average ratio of batch (12.38) exceeds threshold 10.00. Skipping batch.\n",
      "  warnings.warn(\n",
      "/mnt/Workspace/VirtualEnvironments/BanglaVPA/lib/python3.10/site-packages/trl/trainer/ppo_trainer.py:1174: UserWarning: The average ratio of batch (14.84) exceeds threshold 10.00. Skipping batch.\n",
      "  warnings.warn(\n",
      "/mnt/Workspace/VirtualEnvironments/BanglaVPA/lib/python3.10/site-packages/trl/trainer/ppo_trainer.py:1174: UserWarning: The average ratio of batch (14.23) exceeds threshold 10.00. Skipping batch.\n",
      "  warnings.warn(\n",
      "/mnt/Workspace/VirtualEnvironments/BanglaVPA/lib/python3.10/site-packages/trl/trainer/ppo_trainer.py:1174: UserWarning: The average ratio of batch (73.60) exceeds threshold 10.00. Skipping batch.\n",
      "  warnings.warn(\n",
      "/mnt/Workspace/VirtualEnvironments/BanglaVPA/lib/python3.10/site-packages/trl/trainer/ppo_trainer.py:1174: UserWarning: The average ratio of batch (22.34) exceeds threshold 10.00. Skipping batch.\n",
      "  warnings.warn(\n",
      "/mnt/Workspace/VirtualEnvironments/BanglaVPA/lib/python3.10/site-packages/trl/trainer/ppo_trainer.py:1174: UserWarning: The average ratio of batch (18.92) exceeds threshold 10.00. Skipping batch.\n",
      "  warnings.warn(\n",
      "/mnt/Workspace/VirtualEnvironments/BanglaVPA/lib/python3.10/site-packages/trl/trainer/ppo_trainer.py:1174: UserWarning: The average ratio of batch (1154.54) exceeds threshold 10.00. Skipping batch.\n",
      "  warnings.warn(\n",
      "/mnt/Workspace/VirtualEnvironments/BanglaVPA/lib/python3.10/site-packages/trl/trainer/ppo_trainer.py:1174: UserWarning: The average ratio of batch (14.33) exceeds threshold 10.00. Skipping batch.\n",
      "  warnings.warn(\n",
      "/mnt/Workspace/VirtualEnvironments/BanglaVPA/lib/python3.10/site-packages/trl/trainer/ppo_trainer.py:1174: UserWarning: The average ratio of batch (14.63) exceeds threshold 10.00. Skipping batch.\n",
      "  warnings.warn(\n",
      "/mnt/Workspace/VirtualEnvironments/BanglaVPA/lib/python3.10/site-packages/trl/trainer/ppo_trainer.py:1174: UserWarning: The average ratio of batch (129.70) exceeds threshold 10.00. Skipping batch.\n",
      "  warnings.warn(\n",
      "/mnt/Workspace/VirtualEnvironments/BanglaVPA/lib/python3.10/site-packages/trl/trainer/ppo_trainer.py:1174: UserWarning: The average ratio of batch (70.37) exceeds threshold 10.00. Skipping batch.\n",
      "  warnings.warn(\n",
      "/mnt/Workspace/VirtualEnvironments/BanglaVPA/lib/python3.10/site-packages/trl/trainer/ppo_trainer.py:1174: UserWarning: The average ratio of batch (13.31) exceeds threshold 10.00. Skipping batch.\n",
      "  warnings.warn(\n",
      "/mnt/Workspace/VirtualEnvironments/BanglaVPA/lib/python3.10/site-packages/trl/trainer/ppo_trainer.py:1174: UserWarning: The average ratio of batch (26.56) exceeds threshold 10.00. Skipping batch.\n",
      "  warnings.warn(\n",
      "/mnt/Workspace/VirtualEnvironments/BanglaVPA/lib/python3.10/site-packages/trl/trainer/ppo_trainer.py:1174: UserWarning: The average ratio of batch (11.86) exceeds threshold 10.00. Skipping batch.\n",
      "  warnings.warn(\n",
      "/mnt/Workspace/VirtualEnvironments/BanglaVPA/lib/python3.10/site-packages/trl/trainer/ppo_trainer.py:1174: UserWarning: The average ratio of batch (14.01) exceeds threshold 10.00. Skipping batch.\n",
      "  warnings.warn(\n",
      "/mnt/Workspace/VirtualEnvironments/BanglaVPA/lib/python3.10/site-packages/trl/trainer/ppo_trainer.py:1174: UserWarning: The average ratio of batch (12.24) exceeds threshold 10.00. Skipping batch.\n",
      "  warnings.warn(\n",
      "/mnt/Workspace/VirtualEnvironments/BanglaVPA/lib/python3.10/site-packages/trl/trainer/ppo_trainer.py:1174: UserWarning: The average ratio of batch (12.60) exceeds threshold 10.00. Skipping batch.\n",
      "  warnings.warn(\n",
      "100%|██████████| 3/3 [04:02<00:00, 80.69s/it]\n",
      "  0%|          | 0/3 [00:00<?, ?it/s]/mnt/Workspace/VirtualEnvironments/BanglaVPA/lib/python3.10/site-packages/trl/trainer/ppo_trainer.py:1174: UserWarning: The average ratio of batch (88.71) exceeds threshold 10.00. Skipping batch.\n",
      "  warnings.warn(\n",
      "/mnt/Workspace/VirtualEnvironments/BanglaVPA/lib/python3.10/site-packages/trl/trainer/ppo_trainer.py:1174: UserWarning: The average ratio of batch (255.13) exceeds threshold 10.00. Skipping batch.\n",
      "  warnings.warn(\n",
      "/mnt/Workspace/VirtualEnvironments/BanglaVPA/lib/python3.10/site-packages/trl/trainer/ppo_trainer.py:1174: UserWarning: The average ratio of batch (83.60) exceeds threshold 10.00. Skipping batch.\n",
      "  warnings.warn(\n",
      "/mnt/Workspace/VirtualEnvironments/BanglaVPA/lib/python3.10/site-packages/trl/trainer/ppo_trainer.py:1174: UserWarning: The average ratio of batch (19.40) exceeds threshold 10.00. Skipping batch.\n",
      "  warnings.warn(\n",
      "/mnt/Workspace/VirtualEnvironments/BanglaVPA/lib/python3.10/site-packages/trl/trainer/ppo_trainer.py:1174: UserWarning: The average ratio of batch (10.57) exceeds threshold 10.00. Skipping batch.\n",
      "  warnings.warn(\n",
      "/mnt/Workspace/VirtualEnvironments/BanglaVPA/lib/python3.10/site-packages/trl/trainer/ppo_trainer.py:1174: UserWarning: The average ratio of batch (29.54) exceeds threshold 10.00. Skipping batch.\n",
      "  warnings.warn(\n",
      "/mnt/Workspace/VirtualEnvironments/BanglaVPA/lib/python3.10/site-packages/trl/trainer/ppo_trainer.py:1174: UserWarning: The average ratio of batch (11.96) exceeds threshold 10.00. Skipping batch.\n",
      "  warnings.warn(\n",
      "/mnt/Workspace/VirtualEnvironments/BanglaVPA/lib/python3.10/site-packages/trl/trainer/ppo_trainer.py:1174: UserWarning: The average ratio of batch (12.30) exceeds threshold 10.00. Skipping batch.\n",
      "  warnings.warn(\n",
      "/mnt/Workspace/VirtualEnvironments/BanglaVPA/lib/python3.10/site-packages/trl/trainer/ppo_trainer.py:1174: UserWarning: The average ratio of batch (13.15) exceeds threshold 10.00. Skipping batch.\n",
      "  warnings.warn(\n",
      "/mnt/Workspace/VirtualEnvironments/BanglaVPA/lib/python3.10/site-packages/trl/trainer/ppo_trainer.py:1174: UserWarning: The average ratio of batch (226.81) exceeds threshold 10.00. Skipping batch.\n",
      "  warnings.warn(\n",
      "/mnt/Workspace/VirtualEnvironments/BanglaVPA/lib/python3.10/site-packages/trl/trainer/ppo_trainer.py:1174: UserWarning: The average ratio of batch (88.97) exceeds threshold 10.00. Skipping batch.\n",
      "  warnings.warn(\n",
      "/mnt/Workspace/VirtualEnvironments/BanglaVPA/lib/python3.10/site-packages/trl/trainer/ppo_trainer.py:1174: UserWarning: The average ratio of batch (21.13) exceeds threshold 10.00. Skipping batch.\n",
      "  warnings.warn(\n",
      "/mnt/Workspace/VirtualEnvironments/BanglaVPA/lib/python3.10/site-packages/trl/trainer/ppo_trainer.py:1174: UserWarning: The average ratio of batch (10.60) exceeds threshold 10.00. Skipping batch.\n",
      "  warnings.warn(\n",
      "/mnt/Workspace/VirtualEnvironments/BanglaVPA/lib/python3.10/site-packages/trl/trainer/ppo_trainer.py:1174: UserWarning: The average ratio of batch (14.30) exceeds threshold 10.00. Skipping batch.\n",
      "  warnings.warn(\n",
      "/mnt/Workspace/VirtualEnvironments/BanglaVPA/lib/python3.10/site-packages/trl/trainer/ppo_trainer.py:1174: UserWarning: The average ratio of batch (30.48) exceeds threshold 10.00. Skipping batch.\n",
      "  warnings.warn(\n",
      "/mnt/Workspace/VirtualEnvironments/BanglaVPA/lib/python3.10/site-packages/trl/trainer/ppo_trainer.py:1174: UserWarning: The average ratio of batch (88.58) exceeds threshold 10.00. Skipping batch.\n",
      "  warnings.warn(\n",
      "/mnt/Workspace/VirtualEnvironments/BanglaVPA/lib/python3.10/site-packages/trl/trainer/ppo_trainer.py:1174: UserWarning: The average ratio of batch (21.49) exceeds threshold 10.00. Skipping batch.\n",
      "  warnings.warn(\n",
      "/mnt/Workspace/VirtualEnvironments/BanglaVPA/lib/python3.10/site-packages/trl/trainer/ppo_trainer.py:1174: UserWarning: The average ratio of batch (87.48) exceeds threshold 10.00. Skipping batch.\n",
      "  warnings.warn(\n",
      "/mnt/Workspace/VirtualEnvironments/BanglaVPA/lib/python3.10/site-packages/trl/trainer/ppo_trainer.py:1174: UserWarning: The average ratio of batch (11.71) exceeds threshold 10.00. Skipping batch.\n",
      "  warnings.warn(\n",
      "/mnt/Workspace/VirtualEnvironments/BanglaVPA/lib/python3.10/site-packages/trl/trainer/ppo_trainer.py:1174: UserWarning: The average ratio of batch (29.24) exceeds threshold 10.00. Skipping batch.\n",
      "  warnings.warn(\n",
      "/mnt/Workspace/VirtualEnvironments/BanglaVPA/lib/python3.10/site-packages/trl/trainer/ppo_trainer.py:1174: UserWarning: The average ratio of batch (89.04) exceeds threshold 10.00. Skipping batch.\n",
      "  warnings.warn(\n",
      "/mnt/Workspace/VirtualEnvironments/BanglaVPA/lib/python3.10/site-packages/trl/trainer/ppo_trainer.py:1174: UserWarning: The average ratio of batch (13.44) exceeds threshold 10.00. Skipping batch.\n",
      "  warnings.warn(\n",
      "/mnt/Workspace/VirtualEnvironments/BanglaVPA/lib/python3.10/site-packages/trl/trainer/ppo_trainer.py:1174: UserWarning: The average ratio of batch (12.53) exceeds threshold 10.00. Skipping batch.\n",
      "  warnings.warn(\n",
      "/mnt/Workspace/VirtualEnvironments/BanglaVPA/lib/python3.10/site-packages/trl/trainer/ppo_trainer.py:1174: UserWarning: The average ratio of batch (10.63) exceeds threshold 10.00. Skipping batch.\n",
      "  warnings.warn(\n",
      "/mnt/Workspace/VirtualEnvironments/BanglaVPA/lib/python3.10/site-packages/trl/trainer/ppo_trainer.py:1174: UserWarning: The average ratio of batch (243.70) exceeds threshold 10.00. Skipping batch.\n",
      "  warnings.warn(\n",
      "/mnt/Workspace/VirtualEnvironments/BanglaVPA/lib/python3.10/site-packages/trl/trainer/ppo_trainer.py:1174: UserWarning: The average ratio of batch (21.03) exceeds threshold 10.00. Skipping batch.\n",
      "  warnings.warn(\n",
      "/mnt/Workspace/VirtualEnvironments/BanglaVPA/lib/python3.10/site-packages/trl/trainer/ppo_trainer.py:1174: UserWarning: The average ratio of batch (25.45) exceeds threshold 10.00. Skipping batch.\n",
      "  warnings.warn(\n",
      " 33%|███▎      | 1/3 [01:24<02:48, 84.05s/it]/mnt/Workspace/VirtualEnvironments/BanglaVPA/lib/python3.10/site-packages/trl/trainer/ppo_trainer.py:1174: UserWarning: The average ratio of batch (10.91) exceeds threshold 10.00. Skipping batch.\n",
      "  warnings.warn(\n",
      "/mnt/Workspace/VirtualEnvironments/BanglaVPA/lib/python3.10/site-packages/trl/trainer/ppo_trainer.py:1174: UserWarning: The average ratio of batch (10.20) exceeds threshold 10.00. Skipping batch.\n",
      "  warnings.warn(\n",
      "/mnt/Workspace/VirtualEnvironments/BanglaVPA/lib/python3.10/site-packages/trl/trainer/ppo_trainer.py:1174: UserWarning: The average ratio of batch (11.48) exceeds threshold 10.00. Skipping batch.\n",
      "  warnings.warn(\n",
      "/mnt/Workspace/VirtualEnvironments/BanglaVPA/lib/python3.10/site-packages/trl/trainer/ppo_trainer.py:1174: UserWarning: The average ratio of batch (15.62) exceeds threshold 10.00. Skipping batch.\n",
      "  warnings.warn(\n",
      "/mnt/Workspace/VirtualEnvironments/BanglaVPA/lib/python3.10/site-packages/trl/trainer/ppo_trainer.py:1174: UserWarning: The average ratio of batch (10.75) exceeds threshold 10.00. Skipping batch.\n",
      "  warnings.warn(\n",
      "/mnt/Workspace/VirtualEnvironments/BanglaVPA/lib/python3.10/site-packages/trl/trainer/ppo_trainer.py:1174: UserWarning: The average ratio of batch (15.89) exceeds threshold 10.00. Skipping batch.\n",
      "  warnings.warn(\n",
      "/mnt/Workspace/VirtualEnvironments/BanglaVPA/lib/python3.10/site-packages/trl/trainer/ppo_trainer.py:1174: UserWarning: The average ratio of batch (12.36) exceeds threshold 10.00. Skipping batch.\n",
      "  warnings.warn(\n",
      "/mnt/Workspace/VirtualEnvironments/BanglaVPA/lib/python3.10/site-packages/trl/trainer/ppo_trainer.py:1174: UserWarning: The average ratio of batch (11.79) exceeds threshold 10.00. Skipping batch.\n",
      "  warnings.warn(\n",
      "/mnt/Workspace/VirtualEnvironments/BanglaVPA/lib/python3.10/site-packages/trl/trainer/ppo_trainer.py:1174: UserWarning: The average ratio of batch (12.45) exceeds threshold 10.00. Skipping batch.\n",
      "  warnings.warn(\n",
      "/mnt/Workspace/VirtualEnvironments/BanglaVPA/lib/python3.10/site-packages/trl/trainer/ppo_trainer.py:1174: UserWarning: The average ratio of batch (11.26) exceeds threshold 10.00. Skipping batch.\n",
      "  warnings.warn(\n",
      "/mnt/Workspace/VirtualEnvironments/BanglaVPA/lib/python3.10/site-packages/trl/trainer/ppo_trainer.py:1174: UserWarning: The average ratio of batch (11.10) exceeds threshold 10.00. Skipping batch.\n",
      "  warnings.warn(\n",
      "/mnt/Workspace/VirtualEnvironments/BanglaVPA/lib/python3.10/site-packages/trl/trainer/ppo_trainer.py:1174: UserWarning: The average ratio of batch (10.08) exceeds threshold 10.00. Skipping batch.\n",
      "  warnings.warn(\n",
      "/mnt/Workspace/VirtualEnvironments/BanglaVPA/lib/python3.10/site-packages/trl/trainer/ppo_trainer.py:1174: UserWarning: The average ratio of batch (10.22) exceeds threshold 10.00. Skipping batch.\n",
      "  warnings.warn(\n",
      "/mnt/Workspace/VirtualEnvironments/BanglaVPA/lib/python3.10/site-packages/trl/trainer/ppo_trainer.py:1174: UserWarning: The average ratio of batch (12.68) exceeds threshold 10.00. Skipping batch.\n",
      "  warnings.warn(\n",
      "/mnt/Workspace/VirtualEnvironments/BanglaVPA/lib/python3.10/site-packages/trl/trainer/ppo_trainer.py:1174: UserWarning: The average ratio of batch (11.89) exceeds threshold 10.00. Skipping batch.\n",
      "  warnings.warn(\n",
      "/mnt/Workspace/VirtualEnvironments/BanglaVPA/lib/python3.10/site-packages/trl/trainer/ppo_trainer.py:1174: UserWarning: The average ratio of batch (12.02) exceeds threshold 10.00. Skipping batch.\n",
      "  warnings.warn(\n",
      "/mnt/Workspace/VirtualEnvironments/BanglaVPA/lib/python3.10/site-packages/trl/trainer/ppo_trainer.py:1174: UserWarning: The average ratio of batch (12.01) exceeds threshold 10.00. Skipping batch.\n",
      "  warnings.warn(\n",
      "/mnt/Workspace/VirtualEnvironments/BanglaVPA/lib/python3.10/site-packages/trl/trainer/ppo_trainer.py:1174: UserWarning: The average ratio of batch (10.40) exceeds threshold 10.00. Skipping batch.\n",
      "  warnings.warn(\n",
      "/mnt/Workspace/VirtualEnvironments/BanglaVPA/lib/python3.10/site-packages/trl/trainer/ppo_trainer.py:1174: UserWarning: The average ratio of batch (14.51) exceeds threshold 10.00. Skipping batch.\n",
      "  warnings.warn(\n",
      "/mnt/Workspace/VirtualEnvironments/BanglaVPA/lib/python3.10/site-packages/trl/trainer/ppo_trainer.py:1174: UserWarning: The average ratio of batch (10.99) exceeds threshold 10.00. Skipping batch.\n",
      "  warnings.warn(\n",
      "/mnt/Workspace/VirtualEnvironments/BanglaVPA/lib/python3.10/site-packages/trl/trainer/ppo_trainer.py:1174: UserWarning: The average ratio of batch (11.80) exceeds threshold 10.00. Skipping batch.\n",
      "  warnings.warn(\n",
      "/mnt/Workspace/VirtualEnvironments/BanglaVPA/lib/python3.10/site-packages/trl/trainer/ppo_trainer.py:1174: UserWarning: The average ratio of batch (10.98) exceeds threshold 10.00. Skipping batch.\n",
      "  warnings.warn(\n",
      " 67%|██████▋   | 2/3 [02:49<01:24, 84.98s/it]/mnt/Workspace/VirtualEnvironments/BanglaVPA/lib/python3.10/site-packages/trl/trainer/ppo_trainer.py:1174: UserWarning: The average ratio of batch (10.28) exceeds threshold 10.00. Skipping batch.\n",
      "  warnings.warn(\n",
      "/mnt/Workspace/VirtualEnvironments/BanglaVPA/lib/python3.10/site-packages/trl/trainer/ppo_trainer.py:1174: UserWarning: The average ratio of batch (16.09) exceeds threshold 10.00. Skipping batch.\n",
      "  warnings.warn(\n",
      "/mnt/Workspace/VirtualEnvironments/BanglaVPA/lib/python3.10/site-packages/trl/trainer/ppo_trainer.py:1174: UserWarning: The average ratio of batch (14.78) exceeds threshold 10.00. Skipping batch.\n",
      "  warnings.warn(\n",
      "/mnt/Workspace/VirtualEnvironments/BanglaVPA/lib/python3.10/site-packages/trl/trainer/ppo_trainer.py:1174: UserWarning: The average ratio of batch (12.95) exceeds threshold 10.00. Skipping batch.\n",
      "  warnings.warn(\n",
      "/mnt/Workspace/VirtualEnvironments/BanglaVPA/lib/python3.10/site-packages/trl/trainer/ppo_trainer.py:1174: UserWarning: The average ratio of batch (11.35) exceeds threshold 10.00. Skipping batch.\n",
      "  warnings.warn(\n",
      "/mnt/Workspace/VirtualEnvironments/BanglaVPA/lib/python3.10/site-packages/trl/trainer/ppo_trainer.py:1174: UserWarning: The average ratio of batch (19.15) exceeds threshold 10.00. Skipping batch.\n",
      "  warnings.warn(\n",
      "/mnt/Workspace/VirtualEnvironments/BanglaVPA/lib/python3.10/site-packages/trl/trainer/ppo_trainer.py:1174: UserWarning: The average ratio of batch (12.48) exceeds threshold 10.00. Skipping batch.\n",
      "  warnings.warn(\n",
      "/mnt/Workspace/VirtualEnvironments/BanglaVPA/lib/python3.10/site-packages/trl/trainer/ppo_trainer.py:1174: UserWarning: The average ratio of batch (11.00) exceeds threshold 10.00. Skipping batch.\n",
      "  warnings.warn(\n",
      "/mnt/Workspace/VirtualEnvironments/BanglaVPA/lib/python3.10/site-packages/trl/trainer/ppo_trainer.py:1174: UserWarning: The average ratio of batch (13.75) exceeds threshold 10.00. Skipping batch.\n",
      "  warnings.warn(\n",
      "/mnt/Workspace/VirtualEnvironments/BanglaVPA/lib/python3.10/site-packages/trl/trainer/ppo_trainer.py:1174: UserWarning: The average ratio of batch (13.02) exceeds threshold 10.00. Skipping batch.\n",
      "  warnings.warn(\n",
      "/mnt/Workspace/VirtualEnvironments/BanglaVPA/lib/python3.10/site-packages/trl/trainer/ppo_trainer.py:1174: UserWarning: The average ratio of batch (19.77) exceeds threshold 10.00. Skipping batch.\n",
      "  warnings.warn(\n",
      "/mnt/Workspace/VirtualEnvironments/BanglaVPA/lib/python3.10/site-packages/trl/trainer/ppo_trainer.py:1174: UserWarning: The average ratio of batch (10.65) exceeds threshold 10.00. Skipping batch.\n",
      "  warnings.warn(\n",
      "/mnt/Workspace/VirtualEnvironments/BanglaVPA/lib/python3.10/site-packages/trl/trainer/ppo_trainer.py:1174: UserWarning: The average ratio of batch (11.88) exceeds threshold 10.00. Skipping batch.\n",
      "  warnings.warn(\n",
      "/mnt/Workspace/VirtualEnvironments/BanglaVPA/lib/python3.10/site-packages/trl/trainer/ppo_trainer.py:1174: UserWarning: The average ratio of batch (10.49) exceeds threshold 10.00. Skipping batch.\n",
      "  warnings.warn(\n",
      "/mnt/Workspace/VirtualEnvironments/BanglaVPA/lib/python3.10/site-packages/trl/trainer/ppo_trainer.py:1174: UserWarning: The average ratio of batch (13.46) exceeds threshold 10.00. Skipping batch.\n",
      "  warnings.warn(\n",
      "/mnt/Workspace/VirtualEnvironments/BanglaVPA/lib/python3.10/site-packages/trl/trainer/ppo_trainer.py:1174: UserWarning: The average ratio of batch (11.92) exceeds threshold 10.00. Skipping batch.\n",
      "  warnings.warn(\n",
      "/mnt/Workspace/VirtualEnvironments/BanglaVPA/lib/python3.10/site-packages/trl/trainer/ppo_trainer.py:1174: UserWarning: The average ratio of batch (66.46) exceeds threshold 10.00. Skipping batch.\n",
      "  warnings.warn(\n",
      "/mnt/Workspace/VirtualEnvironments/BanglaVPA/lib/python3.10/site-packages/trl/trainer/ppo_trainer.py:1174: UserWarning: The average ratio of batch (10.51) exceeds threshold 10.00. Skipping batch.\n",
      "  warnings.warn(\n",
      "/mnt/Workspace/VirtualEnvironments/BanglaVPA/lib/python3.10/site-packages/trl/trainer/ppo_trainer.py:1174: UserWarning: The average ratio of batch (11.31) exceeds threshold 10.00. Skipping batch.\n",
      "  warnings.warn(\n",
      "/mnt/Workspace/VirtualEnvironments/BanglaVPA/lib/python3.10/site-packages/trl/trainer/ppo_trainer.py:1174: UserWarning: The average ratio of batch (67.44) exceeds threshold 10.00. Skipping batch.\n",
      "  warnings.warn(\n",
      "/mnt/Workspace/VirtualEnvironments/BanglaVPA/lib/python3.10/site-packages/trl/trainer/ppo_trainer.py:1174: UserWarning: The average ratio of batch (11.77) exceeds threshold 10.00. Skipping batch.\n",
      "  warnings.warn(\n",
      "/mnt/Workspace/VirtualEnvironments/BanglaVPA/lib/python3.10/site-packages/trl/trainer/ppo_trainer.py:1174: UserWarning: The average ratio of batch (34.48) exceeds threshold 10.00. Skipping batch.\n",
      "  warnings.warn(\n",
      "/mnt/Workspace/VirtualEnvironments/BanglaVPA/lib/python3.10/site-packages/trl/trainer/ppo_trainer.py:1174: UserWarning: The average ratio of batch (20.36) exceeds threshold 10.00. Skipping batch.\n",
      "  warnings.warn(\n",
      "/mnt/Workspace/VirtualEnvironments/BanglaVPA/lib/python3.10/site-packages/trl/trainer/ppo_trainer.py:1174: UserWarning: The average ratio of batch (11.91) exceeds threshold 10.00. Skipping batch.\n",
      "  warnings.warn(\n",
      "/mnt/Workspace/VirtualEnvironments/BanglaVPA/lib/python3.10/site-packages/trl/trainer/ppo_trainer.py:1174: UserWarning: The average ratio of batch (12.40) exceeds threshold 10.00. Skipping batch.\n",
      "  warnings.warn(\n",
      "/mnt/Workspace/VirtualEnvironments/BanglaVPA/lib/python3.10/site-packages/trl/trainer/ppo_trainer.py:1174: UserWarning: The average ratio of batch (11.52) exceeds threshold 10.00. Skipping batch.\n",
      "  warnings.warn(\n",
      "/mnt/Workspace/VirtualEnvironments/BanglaVPA/lib/python3.10/site-packages/trl/trainer/ppo_trainer.py:1174: UserWarning: The average ratio of batch (14.67) exceeds threshold 10.00. Skipping batch.\n",
      "  warnings.warn(\n",
      "100%|██████████| 3/3 [04:12<00:00, 84.28s/it]\n"
     ]
    }
   ],
   "source": [
    "for epoch in range(2):\n",
    "    for batch in tqdm(ppo_trainer.dataloader):\n",
    "        (logs, game_data,) = (\n",
    "            dict(),\n",
    "            dict(),\n",
    "        )\n",
    "\n",
    "        #### prepend a random control token\n",
    "        task_list = choices(ctrl_str, k=config.batch_size)\n",
    "        game_data[\"query\"] = [t + q for t, q in zip(task_list, batch[\"query\"])]\n",
    "        query_tensors = [torch.cat((ctrl_tokens[t], input_ids)) for t, input_ids in zip(task_list, batch[\"input_ids\"])]\n",
    "\n",
    "        #### get response from gpt2\n",
    "        response_tensors = []\n",
    "        for query in query_tensors:\n",
    "            response = ppo_trainer.generate(query, **generation_kwargs)\n",
    "            response_tensors.append(response.squeeze()[-txt_out_len:])\n",
    "        game_data[\"response\"] = [gpt2_tokenizer.decode(r.squeeze()) for r in response_tensors]\n",
    "\n",
    "        #### sentiment analysis\n",
    "        texts = [q + r for q, r in zip(batch[\"query\"], game_data[\"response\"])]\n",
    "        logits = extract_pipe_output(sentiment_pipe(texts, **sentiment_pipe_kwargs))\n",
    "        rewards = pos_logit_to_reward(logits, task_list)\n",
    "\n",
    "        #### Run PPO training\n",
    "        t = time.time()\n",
    "        stats = ppo_trainer.step(query_tensors, response_tensors, rewards)\n",
    "\n",
    "        for cs in ctrl_str:\n",
    "            key = \"env/reward_\" + cs.strip(\"[]\")\n",
    "            stats[key] = np.mean([r.cpu().numpy() for r, t in zip(rewards, task_list) if t == cs])\n",
    "        ppo_trainer.log_stats(stats, game_data, rewards)"
   ]
  },
  {
   "cell_type": "markdown",
   "metadata": {},
   "source": [
    "## Model inspection"
   ]
  },
  {
   "cell_type": "markdown",
   "metadata": {},
   "source": [
    "### Reward distribution\n",
    "First, we can have a look at the reward distribution. Both the negative and positive rewards are clearly shifted to high rewards. The neutral rewards, however, are still centered around zero. There are a few possible explanations for this. There could be a bug in the code and the way the neutral rewards are calculated. Another problem could be that sentence sometimes start with a strong sentiment and it is hard for the model shift the sentiment towards neutral."
   ]
  },
  {
   "cell_type": "markdown",
   "metadata": {},
   "source": [
    "## Save model\n",
    "Finally, we save the model to disk for later usage."
   ]
  },
  {
   "cell_type": "code",
   "execution_count": 34,
   "metadata": {
    "ExecuteTime": {
     "end_time": "2023-10-17T13:11:32.196368517Z",
     "start_time": "2023-10-17T13:11:31.615180195Z"
    }
   },
   "outputs": [
    {
     "data": {
      "text/plain": "('gpt2-imdb-ctrl/tokenizer_config.json',\n 'gpt2-imdb-ctrl/special_tokens_map.json',\n 'gpt2-imdb-ctrl/vocab.json',\n 'gpt2-imdb-ctrl/merges.txt',\n 'gpt2-imdb-ctrl/added_tokens.json',\n 'gpt2-imdb-ctrl/tokenizer.json')"
     },
     "execution_count": 34,
     "metadata": {},
     "output_type": "execute_result"
    }
   ],
   "source": [
    "gpt2_model.save_pretrained(\"gpt2-imdb-ctrl\")\n",
    "gpt2_tokenizer.save_pretrained(\"gpt2-imdb-ctrl\")"
   ]
  },
  {
   "cell_type": "code",
   "execution_count": 33,
   "outputs": [
    {
     "ename": "KeyError",
     "evalue": "'env/reward_dist'",
     "output_type": "error",
     "traceback": [
      "\u001B[0;31m---------------------------------------------------------------------------\u001B[0m",
      "\u001B[0;31mKeyError\u001B[0m                                  Traceback (most recent call last)",
      "Cell \u001B[0;32mIn[33], line 3\u001B[0m\n\u001B[1;32m      1\u001B[0m \u001B[38;5;28;01mfor\u001B[39;00m ctrl_s \u001B[38;5;129;01min\u001B[39;00m ctrl_str:\n\u001B[1;32m      2\u001B[0m     plt\u001B[38;5;241m.\u001B[39mhist(\n\u001B[0;32m----> 3\u001B[0m         [r \u001B[38;5;28;01mfor\u001B[39;00m r, t \u001B[38;5;129;01min\u001B[39;00m \u001B[38;5;28mzip\u001B[39m(\u001B[43mlogs\u001B[49m\u001B[43m[\u001B[49m\u001B[38;5;124;43m\"\u001B[39;49m\u001B[38;5;124;43menv/reward_dist\u001B[39;49m\u001B[38;5;124;43m\"\u001B[39;49m\u001B[43m]\u001B[49m, task_list) \u001B[38;5;28;01mif\u001B[39;00m t \u001B[38;5;241m==\u001B[39m ctrl_s], density\u001B[38;5;241m=\u001B[39m\u001B[38;5;28;01mTrue\u001B[39;00m, alpha\u001B[38;5;241m=\u001B[39m\u001B[38;5;241m0.5\u001B[39m, label\u001B[38;5;241m=\u001B[39mctrl_s\n\u001B[1;32m      4\u001B[0m     )\n\u001B[1;32m      5\u001B[0m plt\u001B[38;5;241m.\u001B[39mlegend(loc\u001B[38;5;241m=\u001B[39m\u001B[38;5;124m\"\u001B[39m\u001B[38;5;124mbest\u001B[39m\u001B[38;5;124m\"\u001B[39m)\n\u001B[1;32m      6\u001B[0m plt\u001B[38;5;241m.\u001B[39mtitle(\u001B[38;5;124m\"\u001B[39m\u001B[38;5;124mreward distribution\u001B[39m\u001B[38;5;124m\"\u001B[39m)\n",
      "\u001B[0;31mKeyError\u001B[0m: 'env/reward_dist'"
     ]
    }
   ],
   "source": [
    "for ctrl_s in ctrl_str:\n",
    "    plt.hist(\n",
    "        [r for r, t in zip(logs[\"env/reward_dist\"], task_list) if t == ctrl_s], density=True, alpha=0.5, label=ctrl_s\n",
    "    )\n",
    "plt.legend(loc=\"best\")\n",
    "plt.title(\"reward distribution\")\n",
    "plt.grid(True)\n",
    "plt.show()"
   ],
   "metadata": {
    "collapsed": false,
    "ExecuteTime": {
     "start_time": "2023-10-17T13:08:20.053905304Z"
    }
   }
  },
  {
   "cell_type": "code",
   "execution_count": null,
   "outputs": [],
   "source": [],
   "metadata": {
    "collapsed": false
   }
  }
 ],
 "metadata": {
  "kernelspec": {
   "display_name": "trl",
   "language": "python",
   "name": "python3"
  },
  "language_info": {
   "codemirror_mode": {
    "name": "ipython",
    "version": 3
   },
   "file_extension": ".py",
   "mimetype": "text/x-python",
   "name": "python",
   "nbconvert_exporter": "python",
   "pygments_lexer": "ipython3",
   "version": "3.9.12"
  },
  "vscode": {
   "interpreter": {
    "hash": "d2cfb53525227c89f8d14fa784301fa46c451cc9223d94ccce9e17956835eea2"
   }
  }
 },
 "nbformat": 4,
 "nbformat_minor": 4
}
